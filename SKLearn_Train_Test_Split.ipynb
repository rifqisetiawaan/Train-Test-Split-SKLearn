{
  "nbformat": 4,
  "nbformat_minor": 0,
  "metadata": {
    "colab": {
      "name": "SKLearn Train Test Split",
      "provenance": [],
      "collapsed_sections": [],
      "authorship_tag": "ABX9TyNvgA3uIGbI5Qoozymnaxpz",
      "include_colab_link": true
    },
    "kernelspec": {
      "name": "python3",
      "display_name": "Python 3"
    }
  },
  "cells": [
    {
      "cell_type": "markdown",
      "metadata": {
        "id": "view-in-github",
        "colab_type": "text"
      },
      "source": [
        "<a href=\"https://colab.research.google.com/github/rifqisetiawaan/train-test-split-SKLearn/blob/master/SKLearn_Train_Test_Split.ipynb\" target=\"_parent\"><img src=\"https://colab.research.google.com/assets/colab-badge.svg\" alt=\"Open In Colab\"/></a>"
      ]
    },
    {
      "cell_type": "code",
      "metadata": {
        "id": "RqMaqrfl2HN6",
        "colab_type": "code",
        "colab": {}
      },
      "source": [
        "# Author***************Rifqi Setiawan*******************\n",
        "# License***************free to use*********************\n",
        "# *****Visit My Github for more code & other stuff******\n",
        "# *********https://github.com/rifqisetiawaan************"
      ],
      "execution_count": 0,
      "outputs": []
    },
    {
      "cell_type": "code",
      "metadata": {
        "id": "JqKEamtOyctp",
        "colab_type": "code",
        "colab": {}
      },
      "source": [
        "# sklearn library provide a function for divide the datasets"
      ],
      "execution_count": 0,
      "outputs": []
    },
    {
      "cell_type": "code",
      "metadata": {
        "id": "5gMgz4QL1Sg-",
        "colab_type": "code",
        "colab": {}
      },
      "source": [
        "# Import library\n",
        "\n",
        "from sklearn import datasets\n",
        "from sklearn.model_selection import train_test_split\n",
        "iris_datasets = datasets.load_iris()"
      ],
      "execution_count": 0,
      "outputs": []
    },
    {
      "cell_type": "code",
      "metadata": {
        "id": "cNr3jZKC2phs",
        "colab_type": "code",
        "colab": {}
      },
      "source": [
        "# Split the data into two groups: x = attribute, y = label/target\n",
        "\n",
        "x = iris_datasets.data\n",
        "y = iris_datasets.target\n",
        "x_train, x_test, y_train, y_test = train_test_split(x, y, test_size = 0.2)\n",
        "#                                  parameter ======>(attribute, target, test percentage)"
      ],
      "execution_count": 0,
      "outputs": []
    },
    {
      "cell_type": "code",
      "metadata": {
        "id": "U0--kqdi3lpw",
        "colab_type": "code",
        "outputId": "3bac7b69-2f97-4943-afb8-9eecf7cb7f28",
        "colab": {
          "base_uri": "https://localhost:8080/",
          "height": 34
        }
      },
      "source": [
        "# Finally, we can check the length of each data\n",
        "\n",
        "len(x_test) # x_test = 150 * 20% = 30\n",
        "len(x_train) # x_train = 150 * 80% = 120\n",
        "len(y_test) # y_test = 150 * 20% = 30\n",
        "len(y_train) # y_train = 150 * 80% = 120"
      ],
      "execution_count": 0,
      "outputs": [
        {
          "output_type": "execute_result",
          "data": {
            "text/plain": [
              "120"
            ]
          },
          "metadata": {
            "tags": []
          },
          "execution_count": 5
        }
      ]
    }
  ]
}